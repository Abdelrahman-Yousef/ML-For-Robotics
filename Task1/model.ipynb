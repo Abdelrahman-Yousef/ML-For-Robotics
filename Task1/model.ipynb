{
 "cells": [
  {
   "cell_type": "markdown",
   "metadata": {},
   "source": [
    "Problem Definition : we are trying to predict the charges by some features like sex, smoker, region, bmi, etc... .\n",
    "the charges are continuous value and the data is labeled so we are going to use linear regression. "
   ]
  },
  {
   "cell_type": "code",
   "execution_count": 890,
   "metadata": {},
   "outputs": [],
   "source": [
    "############################################ Packages Used ######################################              \n",
    "\n",
    "# to deal with the data set and process it\n",
    "import pandas as pd\n",
    "\n",
    "# to split the data set to train and test data set to evaluate the model\n",
    "from sklearn.model_selection import train_test_split\n",
    "\n",
    "# to create the linear regression model\n",
    "from sklearn.linear_model import LinearRegression\n",
    "\n",
    "# to know how good the model is\n",
    "from sklearn.metrics import r2_score\n",
    "\n",
    "import numpy as np "
   ]
  },
  {
   "cell_type": "code",
   "execution_count": 891,
   "metadata": {},
   "outputs": [
    {
     "name": "stdout",
     "output_type": "stream",
     "text": [
      "      age     sex     bmi  children smoker     region      charges\n",
      "0      19  female  27.900         0    yes  southwest  16884.92400\n",
      "1      18    male  33.770         1     no  southeast   1725.55230\n",
      "2      28    male  33.000         3     no  southeast   4449.46200\n",
      "3      33    male  22.705         0     no  northwest  21984.47061\n",
      "4      32    male  28.880         0     no  northwest   3866.85520\n",
      "...   ...     ...     ...       ...    ...        ...          ...\n",
      "1333   50    male  30.970         3     no  northwest  10600.54830\n",
      "1334   18  female  31.920         0     no  northeast   2205.98080\n",
      "1335   18  female  36.850         0     no  southeast   1629.83350\n",
      "1336   21  female  25.800         0     no  southwest   2007.94500\n",
      "1337   61  female  29.070         0    yes  northwest  29141.36030\n",
      "\n",
      "[1338 rows x 7 columns]\n"
     ]
    }
   ],
   "source": [
    "# read the data set into data frame\n",
    "df = pd.read_csv('insurance.csv')\n",
    "print(df)"
   ]
  },
  {
   "cell_type": "code",
   "execution_count": 892,
   "metadata": {},
   "outputs": [
    {
     "name": "stdout",
     "output_type": "stream",
     "text": [
      "<class 'pandas.core.frame.DataFrame'>\n",
      "RangeIndex: 1338 entries, 0 to 1337\n",
      "Data columns (total 7 columns):\n",
      " #   Column    Non-Null Count  Dtype  \n",
      "---  ------    --------------  -----  \n",
      " 0   age       1338 non-null   int64  \n",
      " 1   sex       1338 non-null   object \n",
      " 2   bmi       1338 non-null   float64\n",
      " 3   children  1338 non-null   int64  \n",
      " 4   smoker    1338 non-null   object \n",
      " 5   region    1338 non-null   object \n",
      " 6   charges   1338 non-null   float64\n",
      "dtypes: float64(2), int64(2), object(3)\n",
      "memory usage: 73.3+ KB\n"
     ]
    }
   ],
   "source": [
    "# get some information about the data set\n",
    "df.info()"
   ]
  },
  {
   "cell_type": "markdown",
   "metadata": {},
   "source": [
    "the data set contains 7 features, three of them are objects [sex, smoker, region]. the data set does not contain any null value"
   ]
  },
  {
   "cell_type": "code",
   "execution_count": 893,
   "metadata": {},
   "outputs": [
    {
     "name": "stdout",
     "output_type": "stream",
     "text": [
      "['southwest' 'southeast' 'northwest' 'northeast']\n",
      "['female' 'male']\n",
      "['yes' 'no']\n"
     ]
    }
   ],
   "source": [
    "# display the unique values in the features which its data type is object\n",
    "print(df['region'].unique())\n",
    "print(df['sex'].unique())\n",
    "print(df['smoker'].unique())"
   ]
  },
  {
   "cell_type": "code",
   "execution_count": 894,
   "metadata": {},
   "outputs": [
    {
     "name": "stdout",
     "output_type": "stream",
     "text": [
      "      age     bmi  children      charges  region_northeast  region_northwest  \\\n",
      "0      19  27.900         0  16884.92400                 0                 0   \n",
      "1      18  33.770         1   1725.55230                 0                 0   \n",
      "2      28  33.000         3   4449.46200                 0                 0   \n",
      "3      33  22.705         0  21984.47061                 0                 1   \n",
      "4      32  28.880         0   3866.85520                 0                 1   \n",
      "...   ...     ...       ...          ...               ...               ...   \n",
      "1333   50  30.970         3  10600.54830                 0                 1   \n",
      "1334   18  31.920         0   2205.98080                 1                 0   \n",
      "1335   18  36.850         0   1629.83350                 0                 0   \n",
      "1336   21  25.800         0   2007.94500                 0                 0   \n",
      "1337   61  29.070         0  29141.36030                 0                 1   \n",
      "\n",
      "      region_southeast  region_southwest  sex_female  sex_male  smoker_no  \\\n",
      "0                    0                 1           1         0          0   \n",
      "1                    1                 0           0         1          1   \n",
      "2                    1                 0           0         1          1   \n",
      "3                    0                 0           0         1          1   \n",
      "4                    0                 0           0         1          1   \n",
      "...                ...               ...         ...       ...        ...   \n",
      "1333                 0                 0           0         1          1   \n",
      "1334                 0                 0           1         0          1   \n",
      "1335                 1                 0           1         0          1   \n",
      "1336                 0                 1           1         0          1   \n",
      "1337                 0                 0           1         0          0   \n",
      "\n",
      "      smoker_yes  \n",
      "0              1  \n",
      "1              0  \n",
      "2              0  \n",
      "3              0  \n",
      "4              0  \n",
      "...          ...  \n",
      "1333           0  \n",
      "1334           0  \n",
      "1335           0  \n",
      "1336           0  \n",
      "1337           1  \n",
      "\n",
      "[1338 rows x 12 columns]\n"
     ]
    }
   ],
   "source": [
    "# use one hot encoding to convert string data to numeric data\n",
    "one_hot_encoded_data = pd.get_dummies(df, columns = ['region', 'sex', 'smoker']) \n",
    "print(one_hot_encoded_data)"
   ]
  },
  {
   "cell_type": "code",
   "execution_count": 895,
   "metadata": {},
   "outputs": [
    {
     "name": "stdout",
     "output_type": "stream",
     "text": [
      "<class 'pandas.core.frame.DataFrame'>\n",
      "RangeIndex: 1338 entries, 0 to 1337\n",
      "Data columns (total 12 columns):\n",
      " #   Column            Non-Null Count  Dtype  \n",
      "---  ------            --------------  -----  \n",
      " 0   age               1338 non-null   int64  \n",
      " 1   bmi               1338 non-null   float64\n",
      " 2   children          1338 non-null   int64  \n",
      " 3   charges           1338 non-null   float64\n",
      " 4   region_northeast  1338 non-null   uint8  \n",
      " 5   region_northwest  1338 non-null   uint8  \n",
      " 6   region_southeast  1338 non-null   uint8  \n",
      " 7   region_southwest  1338 non-null   uint8  \n",
      " 8   sex_female        1338 non-null   uint8  \n",
      " 9   sex_male          1338 non-null   uint8  \n",
      " 10  smoker_no         1338 non-null   uint8  \n",
      " 11  smoker_yes        1338 non-null   uint8  \n",
      "dtypes: float64(2), int64(2), uint8(8)\n",
      "memory usage: 52.4 KB\n"
     ]
    }
   ],
   "source": [
    "# infromation about the data after preprocessing\n",
    "one_hot_encoded_data.info()"
   ]
  },
  {
   "cell_type": "code",
   "execution_count": 896,
   "metadata": {},
   "outputs": [],
   "source": [
    "# extract the independent and dependent variables\n",
    "X = one_hot_encoded_data.loc[:, one_hot_encoded_data.columns != 'charges']\n",
    "y = one_hot_encoded_data['charges']"
   ]
  },
  {
   "cell_type": "code",
   "execution_count": 897,
   "metadata": {},
   "outputs": [],
   "source": [
    "# split the data set into train and test data set\n",
    "X_train, X_test, y_train, y_test = train_test_split(X, y, test_size = 0.25)"
   ]
  },
  {
   "cell_type": "code",
   "execution_count": 898,
   "metadata": {},
   "outputs": [
    {
     "name": "stdout",
     "output_type": "stream",
     "text": [
      "0.7486737521763733\n"
     ]
    }
   ],
   "source": [
    "# create object of linear regression\n",
    "model = LinearRegression()\n",
    "\n",
    "# make model by trying to get the most appropriate coefficients\n",
    "model.fit(X_train, y_train)\n",
    "\n",
    "# test the model with new data\n",
    "y_predict = model.predict(X_test)\n",
    "\n",
    "# know how good the model is\n",
    "r2 = r2_score(y_test, y_predict)\n",
    "print(r2)"
   ]
  },
  {
   "cell_type": "code",
   "execution_count": 899,
   "metadata": {},
   "outputs": [],
   "source": [
    "class linearRegression:\n",
    "    def __init__(self, lr=0.001, n_iters=1000):\n",
    "        self.lr = lr\n",
    "        self.n_iters = n_iters\n",
    "        self.weights = None\n",
    "        self.bias = None\n",
    "\n",
    "    def fit(self, X, y):\n",
    "        n_samples, n_features = X.shape\n",
    "        self.weights = np.zeros(n_features)\n",
    "        self.bias = 0\n",
    "\n",
    "        for i in range(self.n_iters):\n",
    "            y_pred = np.dot(X, self.weights) + self.bias\n",
    "\n",
    "            dw = (1 / n_samples) * np.dot(X.T, (y_pred - y))\n",
    "            db = (1/ n_samples) * np.sum(y_pred - y)\n",
    "\n",
    "            self.weights = self.weights - self.lr * dw\n",
    "            self.bias = self.bias - self.lr * db\n",
    "\n",
    "    def predict(self, X):\n",
    "        y_pred = np.dot(X, self.weights) + self.bias\n",
    "        return y_pred"
   ]
  },
  {
   "cell_type": "code",
   "execution_count": 900,
   "metadata": {},
   "outputs": [
    {
     "name": "stdout",
     "output_type": "stream",
     "text": [
      "0.19707846785516248\n"
     ]
    }
   ],
   "source": [
    "model_two = linearRegression(lr=0.0002)\n",
    "model_two.fit(X_train, y_train)\n",
    "\n",
    "y_predict_two = model_two.predict(X_test)\n",
    "\n",
    "r2_two = r2_score(y_test, y_predict_two)\n",
    "print(r2_two)"
   ]
  },
  {
   "cell_type": "markdown",
   "metadata": {},
   "source": [
    "I am countering a problem which is that the learning rate 0.01 producing NAN values and i do not know why but learning rate 0.0002 produce very low r^2 value so the model is doning very bad."
   ]
  }
 ],
 "metadata": {
  "kernelspec": {
   "display_name": "Python 3",
   "language": "python",
   "name": "python3"
  },
  "language_info": {
   "codemirror_mode": {
    "name": "ipython",
    "version": 3
   },
   "file_extension": ".py",
   "mimetype": "text/x-python",
   "name": "python",
   "nbconvert_exporter": "python",
   "pygments_lexer": "ipython3",
   "version": "3.11.1"
  }
 },
 "nbformat": 4,
 "nbformat_minor": 2
}
